{
  "cells": [
    {
      "cell_type": "markdown",
      "metadata": {
        "id": "cIH1AX_aX8IH"
      },
      "source": [
        "![TheBridge_logo_RGB_color.jpg](attachment:TheBridge_logo_RGB_color.jpg)"
      ]
    },
    {
      "cell_type": "markdown",
      "metadata": {
        "id": "cPRSaOqvX8IN"
      },
      "source": [
        "![imagen](./img/ejercicios.png)"
      ]
    },
    {
      "cell_type": "markdown",
      "metadata": {
        "id": "NZKZYcI1X8IO"
      },
      "source": [
        "## EJERCICIOS PYTHON BASICO 4:\n",
        "## Funciones, métodos, listas"
      ]
    },
    {
      "cell_type": "markdown",
      "metadata": {
        "id": "khjkX8AQX8IP"
      },
      "source": [
        "Completa los siguiente ejercicios, la solución completa a los mismos se publicarán en el repo del curso a lo largo del sprint. En algunos ejercicios se muestra la solución final, para que puedas comprobar que lo has hecho bien, pero lo importante es el código que generes. ¡Vaaamos, a ello...!"
      ]
    },
    {
      "cell_type": "markdown",
      "metadata": {
        "id": "yfXx4dcPX8IQ"
      },
      "source": [
        "![ejercicio.png](./img/ejercicio.png)\n",
        "\n",
        "## Ejercicio 1\n",
        "Para este ejercicio vamos a poner en práctica [las funciones built in](https://docs.python.org/3/library/functions.html).\n",
        "\n",
        "1. Calcula el máximo de la lista: [4, 6, 8, -1]\n",
        "2. Suma todos los elementos de la lista anterior\n",
        "3. Redondea este float a 3 dígitos decimales: 63.451256965\n",
        "4. Valor absoluto de: -74"
      ]
    },
    {
      "cell_type": "code",
      "execution_count": 2,
      "metadata": {
        "id": "qkmVW9NtX8IR",
        "outputId": "ce4730e1-4e7e-4e14-b7a6-56b0406bd6e3",
        "colab": {
          "base_uri": "https://localhost:8080/"
        }
      },
      "outputs": [
        {
          "output_type": "stream",
          "name": "stdout",
          "text": [
            "8\n",
            "17\n",
            "63.451\n",
            "74\n"
          ]
        }
      ],
      "source": [
        "lista = [4, 6, 8, -1]\n",
        "maximo = max(lista)\n",
        "print(maximo)\n",
        "\n",
        "suma_total = sum(lista)\n",
        "print(suma_total)\n",
        "\n",
        "float_num = 63.451256965\n",
        "redondeado = round(float_num, 3)\n",
        "print(redondeado)\n",
        "\n",
        "valor_absoluto = abs(-74)\n",
        "print(valor_absoluto)\n"
      ]
    },
    {
      "cell_type": "markdown",
      "metadata": {
        "id": "dv7GNf8QX8IS"
      },
      "source": [
        "![ejercicio.png](./img/ejercicio.png)\n",
        "\n",
        "## Ejercicio 2\n",
        "Para el siguiente string se pide imprimir por pantalla los siguientes casos\n",
        "\n",
        "    \"En un lugar de la Mancha, de cuyo nombre no quiero acordarme.\"\n",
        "\n",
        "1. Pásalo todo a mayúsculas\n",
        "2. Pásalo todo a minúsculas\n",
        "3. Solo la primera letra de cada palabra en mayúscula, el resto en minúscula\n",
        "4. Crea una lista dividiéndolo por sus espacios\n",
        "5. Sustituye las comas `,` por puntos y comas `;`\n",
        "6. Elimina las `a` minúsculas"
      ]
    },
    {
      "cell_type": "code",
      "source": [
        "quijote = \"En un lugar de la Mancha, de cuyo nombre no quiero acordarme.\"\n",
        "\n",
        "mayusculas = quijote.upper()\n",
        "print(mayusculas)\n",
        "\n",
        "minusculas = quijote.lower()\n",
        "print(minusculas)\n",
        "\n",
        "mayuscula_primera = quijote.title()\n",
        "print(mayuscula_primera)\n",
        "\n",
        "lista_palabras = quijote.split()\n",
        "print(lista_palabras)\n",
        "\n",
        "sustituir_comas = quijote.replace(\",\", \";\")\n",
        "print(sustituir_comas)\n",
        "\n",
        "eliminar_a_minuscula = quijote.replace(\"a\", \"\")\n",
        "print(eliminar_a_minuscula)\n"
      ],
      "metadata": {
        "id": "66S6GnKdgNxu",
        "outputId": "90870793-ace4-4f31-e14f-34a8917b3a71",
        "colab": {
          "base_uri": "https://localhost:8080/"
        }
      },
      "execution_count": 6,
      "outputs": [
        {
          "output_type": "stream",
          "name": "stdout",
          "text": [
            "EN UN LUGAR DE LA MANCHA, DE CUYO NOMBRE NO QUIERO ACORDARME.\n",
            "en un lugar de la mancha, de cuyo nombre no quiero acordarme.\n",
            "En Un Lugar De La Mancha, De Cuyo Nombre No Quiero Acordarme.\n",
            "['En', 'un', 'lugar', 'de', 'la', 'Mancha,', 'de', 'cuyo', 'nombre', 'no', 'quiero', 'acordarme.']\n",
            "En un lugar de la Mancha; de cuyo nombre no quiero acordarme.\n",
            "En un lugr de l Mnch, de cuyo nombre no quiero cordrme.\n"
          ]
        }
      ]
    },
    {
      "cell_type": "markdown",
      "metadata": {
        "id": "RKj6pMzDX8IU"
      },
      "source": [
        "![ejercicio.png](./img/ejercicio.png)\n",
        "\n",
        "## Ejercicio 3\n",
        "1. Crea una lista con 3 elementos numéricos\n",
        "2. Añade un cuarto elemento\n",
        "3. Calcula la suma de todos\n",
        "4. Elimina el segundo elemento de la lista\n",
        "5. Añade otro elemento en la posicion 3 de la lista\n",
        "6. Crea otra lista con 4 elementos y concaténala a la que ya tenías.\n",
        "7. Ordena la lista de menor a mayor.\n",
        "8. BONUS: Ordena la lista de mayor a menor.  \n",
        "(*PISTA: Para hacer 8, tendrás que buscar en la información del método...*)  \n",
        "  \n",
        "  \n",
        "NOTA: Pinta por pantalla el resultado de cada paso."
      ]
    },
    {
      "cell_type": "code",
      "execution_count": 12,
      "metadata": {
        "id": "mcPeziuMX8IU",
        "outputId": "1087fd04-9e7d-4aa2-b9ff-9dd213b899e6",
        "colab": {
          "base_uri": "https://localhost:8080/"
        }
      },
      "outputs": [
        {
          "output_type": "stream",
          "name": "stdout",
          "text": [
            "10\n",
            "[1, 3, 4]\n",
            "[1, 3, 100, 4]\n",
            "[1, 3, 100, 4, 1000, 10, 100, 200]\n",
            "[1, 3, 4, 10, 100, 100, 200, 1000]\n",
            "[1000, 200, 100, 100, 10, 4, 3, 1]\n"
          ]
        }
      ],
      "source": [
        "lista = [1, 2, 3]\n",
        "lista.append(4)\n",
        "suma = sum(lista)\n",
        "print(suma)\n",
        "lista.pop(1)\n",
        "print(lista)\n",
        "lista.insert(2, 100)\n",
        "print(lista)\n",
        "lista2 = [1000, 10, 100, 200]\n",
        "lista3 = lista + lista2\n",
        "print(lista3)\n",
        "lista_menor_mayor = sorted(lista3)\n",
        "print(lista_menor_mayor)\n",
        "lista_mayor_menor = sorted(lista3, reverse=True)\n",
        "print(lista_mayor_menor)\n",
        "\n"
      ]
    },
    {
      "cell_type": "code",
      "source": [],
      "metadata": {
        "id": "ACTLMBDdh-rA"
      },
      "execution_count": null,
      "outputs": []
    }
  ],
  "metadata": {
    "kernelspec": {
      "display_name": "Curso_Online_DATA",
      "language": "python",
      "name": "python3"
    },
    "language_info": {
      "codemirror_mode": {
        "name": "ipython",
        "version": 3
      },
      "file_extension": ".py",
      "mimetype": "text/x-python",
      "name": "python",
      "nbconvert_exporter": "python",
      "pygments_lexer": "ipython3",
      "version": "3.11.5"
    },
    "orig_nbformat": 4,
    "colab": {
      "provenance": []
    }
  },
  "nbformat": 4,
  "nbformat_minor": 0
}