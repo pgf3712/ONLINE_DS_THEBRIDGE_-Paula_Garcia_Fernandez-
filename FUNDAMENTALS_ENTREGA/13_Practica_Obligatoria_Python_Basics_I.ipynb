{
  "cells": [
    {
      "cell_type": "markdown",
      "metadata": {
        "id": "BNCAebJANPxq"
      },
      "source": [
        "![TheBridge_logo_RGB_color.jpg](attachment:TheBridge_logo_RGB_color.jpg)"
      ]
    },
    {
      "cell_type": "markdown",
      "metadata": {
        "id": "A9eDZvZaNPxs"
      },
      "source": [
        "![imagen](./img/ejercicios.png)"
      ]
    },
    {
      "cell_type": "markdown",
      "metadata": {
        "id": "59zPhBxXNPxs"
      },
      "source": [
        "## PRACTICA OBLIGATORIA: PYTHON"
      ]
    },
    {
      "cell_type": "markdown",
      "metadata": {
        "id": "mv2kb1GMNPxs"
      },
      "source": [
        "* La práctica obligatoria de esta unidad consiste en dos ejercicios de programación libre a completar.   \n",
        "* Recuerda que debes subirla a tu repositorio personal antes de la sesión en vivo para que puntúe adecuadamente.  \n",
        "* Recuerda también que no es necesario que esté perfecta, sólo es necesario que se vea el esfuerzo.\n",
        "* Esta práctica se resolverá en la sesión en vivo correspondiente y la solución se publicará en el repo del curso."
      ]
    },
    {
      "cell_type": "markdown",
      "metadata": {
        "id": "Kl9JzST2NPxt"
      },
      "source": [
        "![ejercicio.png](./img/ejercicio.png)\n",
        "## PARTE I\n",
        "\n",
        "En este ejercicio debes simular un chatbot al que le haremos pedidos de pizzas.\n",
        "\n",
        "1. El chatbot tiene que saludar con un: \"Buenas tardes, bienvenido al servicio de pedido online, el precio de nuestra pizzas es de 8,95 para la familiar o de 9,90 para la mediana ¿Cuántas pizzas  familiares desea?\"\n",
        "2. El ususario tiene que introducir un número de pizzas en una variable llamada 'pizz_familiar'\n",
        "3. El chatbot debe responder: \"Estupendo, ¿cuántas pizzas medianas desea?\" y guardar el número de pizzas medianas en otra variable 'pizz_mediana'\n",
        "4. Además debe responder del chatbot: \"Estupendo, se están preparando 'pizz' pizzas familiares y 'pizz_mediana' pizzas medianas. Digame su dirección\"\n",
        "5. El ususario tiene que introducir una direccion en formato String en otra variable llamada 'direcc'\n",
        "6. El programa debe calcular el monto total\n",
        "7. Respuesta final del chatbot: \"Le mandaremos las '(número total de pizzas)' pizzas a la dirección 'direcc'. Serán <precio total a pagar en euros>. Muchas gracias por su pedido.\"\n",
        "         \n"
      ]
    },
    {
      "cell_type": "code",
      "execution_count": 3,
      "metadata": {
        "id": "qkKibyt-NPxt",
        "outputId": "02691212-c94d-414d-d113-d4fc79e23357",
        "colab": {
          "base_uri": "https://localhost:8080/"
        }
      },
      "outputs": [
        {
          "output_type": "stream",
          "name": "stdout",
          "text": [
            "Buenas tardes, bienvenido al servicio de pedido online, el precio de nuestra pizzas es de 8,95 para la familiar o de 9,90 para la mediana ¿Cuántas pizzas familiares desea?\n",
            "Introduzca el número de pizzas familiares que desea: 1\n",
            "Estupendo, ¿cuántas pizzas medianas desea?\n",
            "Introduzca el número de pizzas medianas que desea: 2\n",
            "Estupendo, se están preparando 1 pizzas familiares y 2 pizzas medianas. Digame su dirección\n",
            "Introduzca su dirección: Avenida de la Constitucion 3\n",
            "Le mandaremos las 3 pizzas a la dirección Avenida de la Constitucion 3\n",
            "GRACIAS POR SU PEDIDO :)\n"
          ]
        }
      ],
      "source": [
        "print(\"Buenas tardes, bienvenido al servicio de pedido online, el precio de nuestra pizzas es de 8,95 para la familiar o de 9,90 para la mediana ¿Cuántas pizzas familiares desea?\")\n",
        "\n",
        "pizz_familiar = int(input(\"Introduzca el número de pizzas familiares que desea: \"))\n",
        "print(\"Estupendo, ¿cuántas pizzas medianas desea?\")\n",
        "pizz_mediana = int(input(\"Introduzca el número de pizzas medianas que desea: \"))\n",
        "print(\"Estupendo, se están preparando\", pizz_familiar, \"pizzas familiares y\", pizz_mediana, \"pizzas medianas. Digame su dirección\")\n",
        "direcc = input(\"Introduzca su dirección: \")\n",
        "num_total_pizz = pizz_familiar + pizz_mediana\n",
        "print(\"Le mandaremos las\", num_total_pizz, \"pizzas a la dirección\", direcc)\n",
        "print(\"GRACIAS POR SU PEDIDO :)\")"
      ]
    },
    {
      "cell_type": "markdown",
      "metadata": {
        "id": "f0oqoGDGNPxt"
      },
      "source": [
        "![ejercicio.png](./img/ejercicio.png)\n",
        "## Parte II\n",
        "\n",
        "Crea un programa que realice las siguientes acciones:\n",
        "\n",
        "1. Solicite al usuario que introduzca 3 números enteros separados por comas (por ejemplo: 1,2,3).\n",
        "2. Convierta esa entrada en una lista de números enteros.\n",
        "3. Utilizando funciones built-in, determine el número máximo, el número mínimo y la suma total de los números introducidos.\n",
        "4. Determine la verdad o falsedad de la siguiente afirmación: \"El número máximo menos el número mínimo es igual a la suma total dividida por 5\".\n",
        "5. Muestre los resultados utilizando print."
      ]
    },
    {
      "cell_type": "code",
      "execution_count": 6,
      "metadata": {
        "id": "rAlpWiQ9NPxt",
        "outputId": "d7207dd0-039e-4429-be1c-c1b679331343",
        "colab": {
          "base_uri": "https://localhost:8080/"
        }
      },
      "outputs": [
        {
          "output_type": "stream",
          "name": "stdout",
          "text": [
            "Introduzca 3 números enteros separados por comas: \n",
            "1,2,3\n",
            "El número máximo es: 3\n",
            "El número mínimo es: 1\n",
            "La suma total es: 6\n",
            "El número máximo menos el número mínimo es igual a la suma total dividida por 5: False\n"
          ]
        }
      ],
      "source": [
        "print(\"Introduzca 3 números enteros separados por comas: \")\n",
        "numeros = input()\n",
        "lista_numeros = numeros.split(\",\")\n",
        "lista_numeros = [int(i) for i in lista_numeros]\n",
        "maximo = max(lista_numeros)\n",
        "print(\"El número máximo es:\", maximo)\n",
        "minimo = min(lista_numeros)\n",
        "print(\"El número mínimo es:\", minimo)\n",
        "suma = sum(lista_numeros)\n",
        "print(\"La suma total es:\", suma)\n",
        "resultado = maximo - minimo == suma / 5\n",
        "print(\"El número máximo menos el número mínimo es igual a la suma total dividida por 5:\", resultado)"
      ]
    },
    {
      "cell_type": "code",
      "source": [],
      "metadata": {
        "id": "qXLD3H4gnV7G"
      },
      "execution_count": null,
      "outputs": []
    }
  ],
  "metadata": {
    "kernelspec": {
      "display_name": "Curso_Online_DATA",
      "language": "python",
      "name": "python3"
    },
    "language_info": {
      "codemirror_mode": {
        "name": "ipython",
        "version": 3
      },
      "file_extension": ".py",
      "mimetype": "text/x-python",
      "name": "python",
      "nbconvert_exporter": "python",
      "pygments_lexer": "ipython3",
      "version": "3.11.5"
    },
    "orig_nbformat": 4,
    "colab": {
      "provenance": []
    }
  },
  "nbformat": 4,
  "nbformat_minor": 0
}