{
  "cells": [
    {
      "cell_type": "markdown",
      "metadata": {
        "id": "vigJnuAMSU4x"
      },
      "source": [
        "![TheBridge_logo_RGB_color.jpg](attachment:TheBridge_logo_RGB_color.jpg)"
      ]
    },
    {
      "cell_type": "markdown",
      "metadata": {
        "id": "2xmnwM17SU4y"
      },
      "source": [
        "![ejercicios.png](attachment:ejercicios.png)"
      ]
    },
    {
      "cell_type": "markdown",
      "metadata": {
        "id": "liorA-1ZSU4y"
      },
      "source": [
        "# Ejercicios Clases y Objetos"
      ]
    },
    {
      "cell_type": "markdown",
      "metadata": {
        "id": "5xXUz5l9SU4z"
      },
      "source": [
        "## Ejercicio 1\n",
        "Somos una empresa que tiene varias tiendas de electrodomesticos. Necesitamos un programa para manejar las tiendas, ver las ventas que han tenido, cuántos empleados hay, etc... Para ello vamos a modelizar la tienda en una clase, que tendrá las siguientes características:\n",
        "* Nombre clase: \"Tienda\"\n",
        "* Atributos comunes:\n",
        "    * Tipo: \"Electrodomésticos\"\n",
        "    * Abierta: True\n",
        "* Atributos propios de cada tienda:\n",
        "    * Nombre - String\n",
        "    * Dirección - String\n",
        "    * Número de empleados - int\n",
        "    * Ventas ultimos 3 meses - Lista de 3 numeros\n",
        "* Método para calcular las ventas de todos los meses, que devuelva un numero con todas las ventas.\n",
        "* Método que calcula la media de ventas de los ultimos meses, por empleado\n",
        "* Método que devuelve en un string el nombre de la tienda, junto con su dirección.\n",
        "* Método que obtiene las ventas del último mes.\n",
        "* Método para dar una proyección de las ventas en caso de haber invertido X dinero en marketing en esa tienda. Siendo X el parámetro de entrada. Si X es menor de 1000, las ventas de los ultimos 3 meses hubiesen sido de (1.2 x ventas), si es mayor o igual de 1000, las ventas hubiesen sido de (1.5 x venta). El método reescribe el atributo de ventas en los últimos 3 meses, y además devuelve las ventas con el aumento.\n",
        "\n",
        "Se pide:\n",
        "1. Implementar la clase \"Tienda\"\n",
        "2. Crear tres tiendas con datos inventados\n",
        "3. Comprueba en al menos una de ellas, todo lo implementado en la clase tienda (sus atributos, media de ventas, ventas/empleado...)\n",
        "3. Calcular las ventas del último mes de todas las tiendas. Para ello usa el bucle `for`\n",
        "4. Imprime por pantalla los nombres de las tiendas cuya dirección lleve el string \"Avenida\"\n",
        "5. Seguro que ya has hecho este apartado... Documenta la clase :)"
      ]
    },
    {
      "cell_type": "code",
      "execution_count": 3,
      "metadata": {
        "id": "5cLQcLxfSU4z",
        "outputId": "cef49c25-d744-4685-d25f-aa04639cc528",
        "colab": {
          "base_uri": "https://localhost:8080/"
        }
      },
      "outputs": [
        {
          "output_type": "stream",
          "name": "stdout",
          "text": [
            "Nombre y dirección: Tienda: ElectroMax, Dirección: Calle Mayor 5\n",
            "Ventas totales: 105000\n",
            "Media de ventas por empleado: 10500.0\n",
            "Ventas del último mes: 40000\n",
            "Proyección de ventas con una inversión de 1500 en marketing: [45000.0, 52500.0, 60000.0]\n",
            "Ventas del último mes de ElectroMax: 60000.0\n",
            "Ventas del último mes de TechHome: 25000\n",
            "Ventas del último mes de ElectroShop: 15000\n",
            "Tienda en Avenida: TechHome\n",
            "Tienda en Avenida: ElectroShop\n"
          ]
        }
      ],
      "source": [
        "class Tienda:\n",
        "    tipo = \"Electrodomésticos\"\n",
        "    abierta = True\n",
        "\n",
        "    def __init__(self, nombre, direccion, numero_empleados, ventas_ultimos_meses):\n",
        "        # Atributos propios de cada tienda\n",
        "        self.nombre = nombre\n",
        "        self.direccion = direccion\n",
        "        self.numero_empleados = numero_empleados\n",
        "        self.ventas_ultimos_meses = ventas_ultimos_meses\n",
        "\n",
        "    # Método para calcular las ventas totales de los últimos 3 meses\n",
        "    def ventas_totales(self):\n",
        "        return sum(self.ventas_ultimos_meses)\n",
        "\n",
        "    # Método que calcula la media de ventas por empleado\n",
        "    def media_ventas_por_empleado(self):\n",
        "        if self.numero_empleados > 0:\n",
        "            return self.ventas_totales() / self.numero_empleados\n",
        "        else:\n",
        "            return 0\n",
        "\n",
        "    # Método que devuelve un string con el nombre y dirección de la tienda\n",
        "    def nombre_direccion(self):\n",
        "        return f\"Tienda: {self.nombre}, Dirección: {self.direccion}\"\n",
        "\n",
        "    # Método que obtiene las ventas del último mes\n",
        "    def ventas_ultimo_mes(self):\n",
        "        return self.ventas_ultimos_meses[-1]\n",
        "\n",
        "    # Método para proyectar las ventas con inversión en marketing\n",
        "    def proyeccion_ventas(self, inversion_marketing):\n",
        "        factor = 1.2 if inversion_marketing < 1000 else 1.5\n",
        "        self.ventas_ultimos_meses = [venta * factor for venta in self.ventas_ultimos_meses]\n",
        "        return self.ventas_ultimos_meses\n",
        "\n",
        "# Crear tres tiendas con datos inventados\n",
        "tienda1 = Tienda(\"ElectroMax\", \"Calle Mayor 5\", 10, [30000, 35000, 40000])\n",
        "tienda2 = Tienda(\"TechHome\", \"Avenida de la Libertad 12\", 7, [15000, 20000, 25000])\n",
        "tienda3 = Tienda(\"ElectroShop\", \"Avenida del Mar 22\", 5, [10000, 12000, 15000])\n",
        "\n",
        "# Comprobar en tienda1 todo lo implementado en la clase Tienda\n",
        "print(\"Nombre y dirección:\", tienda1.nombre_direccion())\n",
        "print(\"Ventas totales:\", tienda1.ventas_totales())\n",
        "print(\"Media de ventas por empleado:\", tienda1.media_ventas_por_empleado())\n",
        "print(\"Ventas del último mes:\", tienda1.ventas_ultimo_mes())\n",
        "print(\"Proyección de ventas con una inversión de 1500 en marketing:\", tienda1.proyeccion_ventas(1500))\n",
        "\n",
        "# Calcular las ventas del último mes de todas las tiendas usando un bucle for\n",
        "for tienda in [tienda1, tienda2, tienda3]:\n",
        "    print(f\"Ventas del último mes de {tienda.nombre}: {tienda.ventas_ultimo_mes()}\")\n",
        "\n",
        "# Imprimir los nombres de las tiendas cuya dirección lleva el string \"Avenida\"\n",
        "for tienda in [tienda1, tienda2, tienda3]:\n",
        "    if \"Avenida\" in tienda.direccion:\n",
        "        print(f\"Tienda en Avenida: {tienda.nombre}\")\n"
      ]
    },
    {
      "cell_type": "markdown",
      "metadata": {
        "id": "WEBq7EpsSU40"
      },
      "source": [
        "## Ejercicio 2\n",
        "En este ejercicio vamos a implementar una clase *Perro* en Python. La clase tiene las siguientes características:\n",
        "* Cosas que sabemos seguro que tiene un perro\n",
        "    * Tiene 4 patas\n",
        "    * 2 orejas\n",
        "    * 2 ojos\n",
        "    * Una velocidad de 0. Por defecto, el perro está parado\n",
        "* Cuando se inicialice:\n",
        "    * El perro será de una determinada raza\n",
        "    * Por defecto tendrá pelo \"Marrón\", a no ser que se diga lo contrario.\n",
        "    * Por defecto no tendrá dueño, a no ser que se diga lo contrario.\n",
        "    \n",
        "* Dispondrá también de un método llamado andar, que tiene un argumento de entrada (aumento_velocidad). Este valor se le sumará a la velocidad que ya llevaba el perro.\n",
        "* Necesita otro método (parar), donde pondremos la velocidad a 0.\n",
        "* Otro método llamado \"ladrar\", que tendrá un argumento de entrada, y la salida será el siguiente string: \"GUAU!\" + el argumento de entrada.\n",
        "\n",
        "\n",
        "Se pide:\n",
        "* Implementa la clase *Perro*\n",
        "* Crea un objeto de tipo *Perro*, sin dueño\n",
        "* Comprueba que están bien todos sus atributos\n",
        "* Prueba que ande, y comprueba su velocidad\n",
        "* Páralo\n",
        "* Documenta la clase *Perro*"
      ]
    },
    {
      "cell_type": "code",
      "execution_count": 4,
      "metadata": {
        "id": "DpEWvbwGSU40"
      },
      "outputs": [],
      "source": [
        "class Perro:\n",
        "    \"\"\"\n",
        "    Clase Perro para modelar las características y comportamiento de un perro.\n",
        "\n",
        "    Atributos comunes:\n",
        "    - patas: Número de patas del perro, por defecto 4.\n",
        "    - orejas: Número de orejas, por defecto 2.\n",
        "    - ojos: Número de ojos, por defecto 2.\n",
        "    - velocidad: Velocidad actual del perro, por defecto 0 (está parado).\n",
        "\n",
        "    Atributos específicos de cada perro:\n",
        "    - raza: Raza del perro (String), definida al crear el objeto.\n",
        "    - pelo: Color del pelo, por defecto \"Marrón\" (se puede cambiar en la inicialización).\n",
        "    - dueño: Indica si tiene dueño, por defecto None (se puede definir en la inicialización).\n",
        "\n",
        "    Métodos:\n",
        "    - andar(aumento_velocidad): Aumenta la velocidad del perro en función del valor de entrada.\n",
        "    - parar(): Detiene al perro, poniendo la velocidad a 0.\n",
        "    - ladrar(mensaje): Devuelve el ladrido \"GUAU!\" seguido del mensaje de entrada.\n",
        "    \"\"\"\n",
        "\n",
        "    # Atributos comunes\n",
        "    patas = 4\n",
        "    orejas = 2\n",
        "    ojos = 2\n",
        "    velocidad = 0\n",
        "\n",
        "    def __init__(self, raza, pelo=\"Marrón\", dueño=None):\n",
        "        self.raza = raza\n",
        "        self.pelo = pelo\n",
        "        self.dueño = dueño\n",
        "\n",
        "    # Método para hacer que el perro aumente su velocidad\n",
        "    def andar(self, aumento_velocidad):\n",
        "        self.velocidad += aumento_velocidad\n",
        "        print(f\"El perro está andando a {self.velocidad} km/h\")\n",
        "\n",
        "    # Método para detener al perro\n",
        "    def parar(self):\n",
        "        self.velocidad = 0\n",
        "        print(\"El perro se ha parado.\")\n",
        "\n",
        "    # Método para hacer ladrar al perro\n",
        "    def ladrar(self, mensaje):\n",
        "        return \"GUAU! \" + mensaje\n"
      ]
    },
    {
      "cell_type": "code",
      "source": [
        "# Crear un objeto Perro sin dueño\n",
        "mi_perro = Perro(raza=\"Labrador\")\n",
        "\n",
        "# Comprobar que están bien todos sus atributos\n",
        "print(f\"Raza: {mi_perro.raza}\")\n",
        "print(f\"Pelo: {mi_perro.pelo}\")\n",
        "print(f\"Dueño: {mi_perro.dueño}\")\n",
        "print(f\"Patas: {mi_perro.patas}\")\n",
        "print(f\"Orejas: {mi_perro.orejas}\")\n",
        "print(f\"Ojos: {mi_perro.ojos}\")\n",
        "print(f\"Velocidad inicial: {mi_perro.velocidad}\")\n",
        "\n",
        "# Hacer que el perro ande y comprobar la velocidad\n",
        "mi_perro.andar(5)  # Aumentar la velocidad en 5 km/h\n",
        "mi_perro.andar(3)  # Aumentar la velocidad en 3 km/h\n",
        "\n",
        "# Parar al perro y comprobar que la velocidad es 0\n",
        "mi_perro.parar()\n",
        "\n",
        "# Hacer que el perro ladre\n",
        "print(mi_perro.ladrar(\"Estoy contento\"))\n"
      ],
      "metadata": {
        "id": "N3qCIgQ9ZQmo",
        "outputId": "ad596150-494a-4dd6-edc9-00000dd7c6c4",
        "colab": {
          "base_uri": "https://localhost:8080/"
        }
      },
      "execution_count": 5,
      "outputs": [
        {
          "output_type": "stream",
          "name": "stdout",
          "text": [
            "Raza: Labrador\n",
            "Pelo: Marrón\n",
            "Dueño: None\n",
            "Patas: 4\n",
            "Orejas: 2\n",
            "Ojos: 2\n",
            "Velocidad inicial: 0\n",
            "El perro está andando a 5 km/h\n",
            "El perro está andando a 8 km/h\n",
            "El perro se ha parado.\n",
            "GUAU! Estoy contento\n"
          ]
        }
      ]
    },
    {
      "cell_type": "code",
      "source": [],
      "metadata": {
        "id": "jGtesWI6ZV6F"
      },
      "execution_count": null,
      "outputs": []
    }
  ],
  "metadata": {
    "kernelspec": {
      "display_name": "Python 3",
      "language": "python",
      "name": "python3"
    },
    "language_info": {
      "codemirror_mode": {
        "name": "ipython",
        "version": 3
      },
      "file_extension": ".py",
      "mimetype": "text/x-python",
      "name": "python",
      "nbconvert_exporter": "python",
      "pygments_lexer": "ipython3",
      "version": "3.7.9"
    },
    "colab": {
      "provenance": []
    }
  },
  "nbformat": 4,
  "nbformat_minor": 0
}