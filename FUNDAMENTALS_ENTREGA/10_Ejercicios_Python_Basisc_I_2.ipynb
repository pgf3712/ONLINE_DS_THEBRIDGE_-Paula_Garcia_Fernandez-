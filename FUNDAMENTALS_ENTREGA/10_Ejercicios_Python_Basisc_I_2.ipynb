{
  "cells": [
    {
      "cell_type": "markdown",
      "metadata": {
        "id": "GB2K42EgK9q5"
      },
      "source": [
        "![TheBridge_logo_RGB_color.jpg](attachment:TheBridge_logo_RGB_color.jpg)"
      ]
    },
    {
      "cell_type": "markdown",
      "metadata": {
        "id": "GnwVlO37K9q6"
      },
      "source": [
        "![imagen](./img/ejercicios.png)"
      ]
    },
    {
      "cell_type": "markdown",
      "metadata": {
        "id": "_9pTa0PXK9q6"
      },
      "source": [
        "## EJERCICIOS PYTHON BASICO 2:\n",
        "## Tipos y conversión de tipos"
      ]
    },
    {
      "cell_type": "markdown",
      "metadata": {
        "id": "tYmV-veoK9q6"
      },
      "source": [
        "Completa los siguiente ejercicios, la solución a los mismos se publicarán en el repo del curso a lo largo del sprint"
      ]
    },
    {
      "cell_type": "markdown",
      "metadata": {
        "id": "YAdFbIOXK9q7"
      },
      "source": [
        "![ejercicio.png](./img/ejercicio.png)\n",
        "\n",
        "## Ejercicio 1\n",
        "\n",
        "1. Crea dos variables numericas: un `int` y un `float`\n",
        "2. Comprueba sus tipos\n",
        "3. Sumalas en otra nueva\n",
        "4. ¿De qué tipo es la nueva variable?\n",
        "5. Elimina las dos primeras variables creadas"
      ]
    },
    {
      "cell_type": "code",
      "execution_count": 2,
      "metadata": {
        "id": "8QZmuLOsK9q7",
        "outputId": "ebc11454-c93d-4d0e-fe66-bde98a406ed0",
        "colab": {
          "base_uri": "https://localhost:8080/"
        }
      },
      "outputs": [
        {
          "output_type": "stream",
          "name": "stdout",
          "text": [
            "<class 'int'>\n",
            "<class 'float'>\n",
            "<class 'float'>\n"
          ]
        }
      ],
      "source": [
        "int_variable = 2\n",
        "float_variable = 2.2342\n",
        "\n",
        "print(type(int_variable))\n",
        "print(type(float_variable))\n",
        "\n",
        "suma_variables = int_variable + float_variable\n",
        "print(type(suma_variables))\n",
        "del int_variable\n",
        "del float_variable"
      ]
    },
    {
      "cell_type": "markdown",
      "metadata": {
        "id": "f5xfpkpQK9q7"
      },
      "source": [
        "![ejercicio.png](./img/ejercicio.png)\n",
        "\n",
        "## Ejercicio 2\n",
        "Escribe un programa para pasar de grados a radianes. Hay que usar `input`. Recuerda que la conversión se realiza mediante\n",
        "\n",
        "radianes = grados*(pi/180)"
      ]
    },
    {
      "cell_type": "code",
      "execution_count": 5,
      "metadata": {
        "id": "V50TUQMzK9q7",
        "outputId": "0f4e9a74-3b82-4596-ccac-076b0d232cb7",
        "colab": {
          "base_uri": "https://localhost:8080/"
        }
      },
      "outputs": [
        {
          "output_type": "stream",
          "name": "stdout",
          "text": [
            "PROGRAMA PARA PASAR DE GRADOS A RADIANES\n",
            "¿Cuantos grados desea introducir? 13\n",
            "13 grados son 0.22689280275926285 radianes\n"
          ]
        }
      ],
      "source": [
        "print(\"PROGRAMA PARA PASAR DE GRADOS A RADIANES\")\n",
        "grados = int(input(\"¿Cuantos grados desea introducir? \"))\n",
        "pi = 3.14159265358979323846\n",
        "radianes = grados*(pi/180)\n",
        "print(f\"{grados} grados son {radianes} radianes\")"
      ]
    },
    {
      "cell_type": "markdown",
      "metadata": {
        "id": "zX3-p58CK9q7"
      },
      "source": [
        "![ejercicio.png](./img/ejercicio.png)\n",
        "\n",
        "## Ejercicio 3\n",
        "Escribe un programa que calcule el area de un paralelogramo (base x altura). También con `input`"
      ]
    },
    {
      "cell_type": "code",
      "execution_count": 7,
      "metadata": {
        "id": "s2QfNiBAK9q7",
        "outputId": "2550f150-67a0-4600-f48a-6e4bcd29c890",
        "colab": {
          "base_uri": "https://localhost:8080/"
        }
      },
      "outputs": [
        {
          "output_type": "stream",
          "name": "stdout",
          "text": [
            "PROGRAMA PARA CALCULAR EL AREA DE UN PARALELOGRAMO\n",
            "¿Cual es la base del paralelogramo?3\n",
            "¿Cual es la altura del paralelogramo?6\n",
            "El area del paralelogramo es 18\n"
          ]
        }
      ],
      "source": [
        "print(\"PROGRAMA PARA CALCULAR EL AREA DE UN PARALELOGRAMO\")\n",
        "base = int(input(\"¿Cual es la base del paralelogramo?\"))\n",
        "altura = int(input(\"¿Cual es la altura del paralelogramo?\"))\n",
        "area = base * altura\n",
        "print(f\"El area del paralelogramo es {area}\")"
      ]
    },
    {
      "cell_type": "markdown",
      "metadata": {
        "id": "-6TBo_HvK9q8"
      },
      "source": [
        "![ejercicio.png](./img/ejercicio.png)\n",
        "\n",
        "## Ejercicio 4\n",
        "Escribe un programa que calcule el area de un paralelogramo (base x altura). También con `input`. En este caso debe ser capaz de admitir valores reales, con decimales, para base y altura en español. (PISTA: Recuerda que tendrás que hacer uso del método replace)"
      ]
    },
    {
      "cell_type": "code",
      "execution_count": 11,
      "metadata": {
        "id": "uzUIa1JqK9q8",
        "outputId": "e76f741c-a87b-4d32-f8fb-b8cf2eda0e87",
        "colab": {
          "base_uri": "https://localhost:8080/"
        }
      },
      "outputs": [
        {
          "output_type": "stream",
          "name": "stdout",
          "text": [
            "PROGRAMA PARA CALCULAR EL AREA DE UN PARALELOGRAMO\n",
            "¿Cual es la base del paralelogramo?6.435345\n",
            "¿Cual es la altura del paralelogramo?7.45352\n",
            "El area del paralelogramo es 42\n"
          ]
        }
      ],
      "source": [
        "print(\"PROGRAMA PARA CALCULAR EL AREA DE UN PARALELOGRAMO\")\n",
        "base = int(float(input(\"¿Cual es la base del paralelogramo?\")))\n",
        "altura = int(float(input(\"¿Cual es la altura del paralelogramo?\")))\n",
        "area = base * altura\n",
        "print(f\"El area del paralelogramo es {area}\")"
      ]
    },
    {
      "cell_type": "markdown",
      "metadata": {
        "id": "5zKugi5iK9q8"
      },
      "source": [
        "![ejercicio.png](./img/ejercicio.png)\n",
        "\n",
        "## Ejercicio 5\n",
        "Complete el siguiente código para solicitar al usuario su nombre y su edad. Luego, calcule en qué año nació el usuario y muestre el resultado."
      ]
    },
    {
      "cell_type": "code",
      "execution_count": 3,
      "metadata": {
        "id": "LISfTnRkK9q8",
        "outputId": "c07837e9-fc5e-41b3-efc7-91d1a4762f55",
        "colab": {
          "base_uri": "https://localhost:8080/"
        }
      },
      "outputs": [
        {
          "output_type": "stream",
          "name": "stdout",
          "text": [
            "¿Cuál es tu nombre? Paula\n",
            "¿Cuál es tu edad? 26\n",
            "Paula, naciste en el año 1998.\n"
          ]
        }
      ],
      "source": [
        "nombre = input(\"¿Cuál es tu nombre? \")\n",
        "edad = int(input(\"¿Cuál es tu edad? \"))\n",
        "año_actual = 2024  # Puedes cambiarlo según el año en curso\n",
        "año_nacimiento = año_actual - edad\n",
        "\n",
        "print(f\"{nombre}, naciste en el año {año_nacimiento}.\")\n"
      ]
    }
  ],
  "metadata": {
    "kernelspec": {
      "display_name": "Curso_Online_DATA",
      "language": "python",
      "name": "python3"
    },
    "language_info": {
      "codemirror_mode": {
        "name": "ipython",
        "version": 3
      },
      "file_extension": ".py",
      "mimetype": "text/x-python",
      "name": "python",
      "nbconvert_exporter": "python",
      "pygments_lexer": "ipython3",
      "version": "3.11.5"
    },
    "orig_nbformat": 4,
    "colab": {
      "provenance": []
    }
  },
  "nbformat": 4,
  "nbformat_minor": 0
}