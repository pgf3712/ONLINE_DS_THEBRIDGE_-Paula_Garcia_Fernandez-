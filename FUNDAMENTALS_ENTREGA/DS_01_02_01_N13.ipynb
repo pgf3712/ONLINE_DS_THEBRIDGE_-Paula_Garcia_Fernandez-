{
  "cells": [
    {
      "cell_type": "markdown",
      "metadata": {
        "id": "9l3HMgm6RWxF"
      },
      "source": [
        "![TheBridge_logo_RGB_color.jpg](attachment:TheBridge_logo_RGB_color.jpg)"
      ]
    },
    {
      "cell_type": "markdown",
      "metadata": {
        "id": "RGg9iWpoRWxG"
      },
      "source": [
        "![ejercicios.png](attachment:ejercicios.png)"
      ]
    },
    {
      "cell_type": "markdown",
      "metadata": {
        "id": "AyOlWS2nRWxH"
      },
      "source": [
        "## PRACTICA OBLIGATORIA: COLECCIONES Y FUNCIONES"
      ]
    },
    {
      "cell_type": "markdown",
      "metadata": {
        "id": "6UOgb0KVRWxH"
      },
      "source": [
        "* La práctica obligatoria de esta unidad consiste varios ejercicios de programación libre a completar sobre Colecciones y Funciones. Descarga este notebook en tu ordenador y trabaja en local.  \n",
        "* Recuerda que debes subirla a tu repositorio personal antes de la sesión en vivo para que puntúe adecuadamente y puedas participar en dicha sesión.  \n",
        "* Recuerda también que no es necesario que esté perfecta, sólo es necesario que se vea el esfuerzo.\n",
        "* Esta práctica se resolverá en la sesión en vivo correspondiente y la solución se publicará en el repo del curso."
      ]
    },
    {
      "cell_type": "markdown",
      "metadata": {
        "id": "j3yu-tEjRWxH"
      },
      "source": [
        "### Contenidos"
      ]
    },
    {
      "cell_type": "markdown",
      "metadata": {
        "id": "kO-fLH39RWxH"
      },
      "source": [
        "## Ejercicio 1\n",
        "Eleva todos los elementos de la lista al cuadrado\n",
        "> ```ejer_2 = [1,2,3,4,5]```"
      ]
    },
    {
      "cell_type": "code",
      "execution_count": 2,
      "metadata": {
        "id": "ks5l3yi7RWxH",
        "colab": {
          "base_uri": "https://localhost:8080/"
        },
        "outputId": "df9f20fd-3903-436b-fddc-a6b403d782c7"
      },
      "outputs": [
        {
          "output_type": "stream",
          "name": "stdout",
          "text": [
            "El resultado de los elementos elevados al cuadrado es: [1, 4, 9, 16, 25]\n"
          ]
        }
      ],
      "source": [
        "ejer_2 = [1,2,3,4,5]\n",
        "elevado_al_cuadrado = [x**2 for x in ejer_2]\n",
        "print(\"El resultado de los elementos elevados al cuadrado es:\", elevado_al_cuadrado)"
      ]
    },
    {
      "cell_type": "markdown",
      "metadata": {
        "id": "kI_Xr5oFRWxI"
      },
      "source": [
        "## Ejercicio 2\n",
        "Haz un programa que detecte todos los duplicados de un elemento en una lista:\n",
        "* Utiliza una variable duplicado para asignarle el valor del elemento del que queremos encontrar todos sus duplicados.\n",
        "* El programa debe devolver todos los índices de los elementos duplicados.\n",
        "* Aplícalo para encontrar los duplicados de \"un\", \"es\" y \"binario\" de:  \n",
        "\n",
        ">```ejer_3 = [\"Un\", \"árbol\", \"binario\", \"es\", \"una\", \"estructura\", \"de\", \"un\", \"tipo\", \"particular\", \"a\", \"veces\", \"no\", \"es\", \"ni\", \"binario\"]```\n"
      ]
    },
    {
      "cell_type": "code",
      "execution_count": 7,
      "metadata": {
        "id": "cLY9WB7YRWxI",
        "colab": {
          "base_uri": "https://localhost:8080/",
          "height": 110
        },
        "outputId": "e3759e9a-1355-4c8b-884f-d7e9b79a0877"
      },
      "outputs": [
        {
          "output_type": "error",
          "ename": "SyntaxError",
          "evalue": "invalid syntax (<ipython-input-7-0d1d70255491>, line 3)",
          "traceback": [
            "\u001b[0;36m  File \u001b[0;32m\"<ipython-input-7-0d1d70255491>\"\u001b[0;36m, line \u001b[0;32m3\u001b[0m\n\u001b[0;31m    def encontrar_duplicados:\u001b[0m\n\u001b[0m                            ^\u001b[0m\n\u001b[0;31mSyntaxError\u001b[0m\u001b[0;31m:\u001b[0m invalid syntax\n"
          ]
        }
      ],
      "source": [
        "ejer_3 = [\"Un\", \"árbol\", \"binario\", \"es\", \"una\", \"estructura\", \"de\", \"un\", \"tipo\", \"particular\", \"a\", \"veces\", \"no\", \"es\", \"ni\", \"binario\"]\n",
        "\n",
        "def encontrar_duplicados:\n",
        "\n",
        "\n",
        "#????????\n",
        "\n"
      ]
    },
    {
      "cell_type": "markdown",
      "metadata": {
        "id": "3WrBd5QaRWxI"
      },
      "source": [
        "## Ejercicio 3\n",
        "1. ¿Cuántas veces se repite el 3 en la siguiente tupla?\n",
        "2. Crea una tupla nueva con los elementos desde la posicion 5 a la 10.\n",
        "3. ¿Cuántos elementos tiene la tupla `ejer_3`?\n",
        "> ```ejer_9 = (3, 20, 3, 47, 19, 3, 29, 45, 67, 78, 90, 3, 3, 5, 2, 4, 7, 9, 4, 2, 4, 3, 3, 4, 6, 7)```"
      ]
    },
    {
      "cell_type": "code",
      "execution_count": 8,
      "metadata": {
        "id": "bkv_R5LYRWxI",
        "colab": {
          "base_uri": "https://localhost:8080/"
        },
        "outputId": "9e7aea5e-a693-4c27-e812-656c020b0ba1"
      },
      "outputs": [
        {
          "output_type": "stream",
          "name": "stdout",
          "text": [
            "7\n",
            "(19, 3, 29, 45, 67)\n",
            "26\n"
          ]
        }
      ],
      "source": [
        "ejer_9 = (3, 20, 3, 47, 19, 3, 29, 45, 67, 78, 90, 3, 3, 5, 2, 4, 7, 9, 4, 2, 4, 3, 3, 4, 6, 7)\n",
        "\n",
        "print(ejer_9.count(3))\n",
        "print(ejer_9[4:9])\n",
        "print(len(ejer_9))"
      ]
    },
    {
      "cell_type": "markdown",
      "metadata": {
        "id": "6g8Y54AeRWxI"
      },
      "source": [
        "## Ejercicio 4\n",
        "Comprueba si el numero 60 esta en la tupla del ejercicio 3"
      ]
    },
    {
      "cell_type": "code",
      "execution_count": 9,
      "metadata": {
        "id": "F8VTEZonRWxI",
        "colab": {
          "base_uri": "https://localhost:8080/"
        },
        "outputId": "66028339-3654-4908-e852-2865b856b64c"
      },
      "outputs": [
        {
          "output_type": "stream",
          "name": "stdout",
          "text": [
            "False\n"
          ]
        }
      ],
      "source": [
        "print(60 in ejer_9)"
      ]
    },
    {
      "cell_type": "markdown",
      "metadata": {
        "id": "y0fg-ZA6RWxI"
      },
      "source": [
        "## Ejercicio 5\n",
        "1. Convierte la tupla del ejercicio 3 en una lista\n",
        "2. Convierte la tupla del ejercicio 3 en un set\n",
        "3. Convierte la tupla del ejercicio 3 en un diccionario. Usa también los indices"
      ]
    },
    {
      "cell_type": "code",
      "execution_count": 11,
      "metadata": {
        "id": "_O5hXr01RWxI",
        "colab": {
          "base_uri": "https://localhost:8080/"
        },
        "outputId": "3f521bae-d5e7-49dc-b66b-8f52b3782b35"
      },
      "outputs": [
        {
          "output_type": "stream",
          "name": "stdout",
          "text": [
            "[3, 20, 3, 47, 19, 3, 29, 45, 67, 78, 90, 3, 3, 5, 2, 4, 7, 9, 4, 2, 4, 3, 3, 4, 6, 7]\n",
            "{2, 3, 67, 5, 4, 7, 6, 9, 45, 78, 47, 19, 20, 90, 29}\n",
            "{0: 3, 1: 20, 2: 3, 3: 47, 4: 19, 5: 3, 6: 29, 7: 45, 8: 67, 9: 78, 10: 90, 11: 3, 12: 3, 13: 5, 14: 2, 15: 4, 16: 7, 17: 9, 18: 4, 19: 2, 20: 4, 21: 3, 22: 3, 23: 4, 24: 6, 25: 7}\n"
          ]
        }
      ],
      "source": [
        "lista_ejer_9 = list(ejer_9)\n",
        "print(lista_ejer_9)\n",
        "\n",
        "set_ejer_9 = set(ejer_9)\n",
        "print(set_ejer_9)\n",
        "\n",
        "#????????\n",
        "diccionario_ejer_9 = {i: valor for i, valor in enumerate(ejer_9)}\n",
        "print(diccionario_ejer_9)"
      ]
    },
    {
      "cell_type": "markdown",
      "metadata": {
        "id": "eOdWWbxvRWxJ"
      },
      "source": [
        "## Ejercicio 6\n",
        "Multiplica todos los valores del diccionario\n",
        "> ```ejer_6 = {1: 11, 2: 22, 3: 33, 4: 44, 5: 55}```"
      ]
    },
    {
      "cell_type": "code",
      "source": [
        "ejer_6 = {1: 11, 2: 22, 3: 33, 4: 44, 5: 55}\n",
        "multiplicacion = 1\n",
        "for valor in ejer_6.values():\n",
        "    multiplicacion *= valor\n",
        "print(multiplicacion)\n",
        "#????????"
      ],
      "metadata": {
        "colab": {
          "base_uri": "https://localhost:8080/"
        },
        "id": "zvs-KfI47aSv",
        "outputId": "3bfb5c5c-75f2-41ca-ab26-ef4c0c4f7d45"
      },
      "execution_count": 14,
      "outputs": [
        {
          "output_type": "stream",
          "name": "stdout",
          "text": [
            "19326120\n"
          ]
        }
      ]
    },
    {
      "cell_type": "code",
      "execution_count": 15,
      "metadata": {
        "id": "KcuByovKRWxJ",
        "colab": {
          "base_uri": "https://localhost:8080/",
          "height": 201
        },
        "outputId": "d74971bb-b4c2-40df-acb0-1a9ebdaf101c"
      },
      "outputs": [
        {
          "output_type": "error",
          "ename": "NameError",
          "evalue": "name 'math' is not defined",
          "traceback": [
            "\u001b[0;31m---------------------------------------------------------------------------\u001b[0m",
            "\u001b[0;31mNameError\u001b[0m                                 Traceback (most recent call last)",
            "\u001b[0;32m<ipython-input-15-5a0c34eecf42>\u001b[0m in \u001b[0;36m<cell line: 4>\u001b[0;34m()\u001b[0m\n\u001b[1;32m      2\u001b[0m \u001b[0mvalores\u001b[0m \u001b[0;34m=\u001b[0m \u001b[0mejer_6\u001b[0m\u001b[0;34m.\u001b[0m\u001b[0mvalues\u001b[0m\u001b[0;34m(\u001b[0m\u001b[0;34m)\u001b[0m\u001b[0;34m\u001b[0m\u001b[0;34m\u001b[0m\u001b[0m\n\u001b[1;32m      3\u001b[0m \u001b[0mlista_valores\u001b[0m \u001b[0;34m=\u001b[0m \u001b[0mlist\u001b[0m\u001b[0;34m(\u001b[0m\u001b[0mvalores\u001b[0m\u001b[0;34m)\u001b[0m\u001b[0;34m\u001b[0m\u001b[0;34m\u001b[0m\u001b[0m\n\u001b[0;32m----> 4\u001b[0;31m \u001b[0mmultiplicacion\u001b[0m \u001b[0;34m=\u001b[0m \u001b[0mmath\u001b[0m\u001b[0;34m.\u001b[0m\u001b[0mprod\u001b[0m\u001b[0;34m(\u001b[0m\u001b[0mvalores\u001b[0m\u001b[0;34m)\u001b[0m\u001b[0;34m\u001b[0m\u001b[0;34m\u001b[0m\u001b[0m\n\u001b[0m\u001b[1;32m      5\u001b[0m \u001b[0mprint\u001b[0m\u001b[0;34m(\u001b[0m\u001b[0mmultiplicacion\u001b[0m\u001b[0;34m)\u001b[0m\u001b[0;34m\u001b[0m\u001b[0;34m\u001b[0m\u001b[0m\n",
            "\u001b[0;31mNameError\u001b[0m: name 'math' is not defined"
          ]
        }
      ],
      "source": [
        "ejer_6 = {1: 11, 2: 22, 3: 33, 4: 44, 5: 55}\n",
        "valores = ejer_6.values()\n",
        "lista_valores = list(valores)\n",
        "multiplicacion = ??????\n",
        "print(multiplicacion)\n",
        "#????????"
      ]
    },
    {
      "cell_type": "markdown",
      "metadata": {
        "id": "W7TUSaKRRWxJ"
      },
      "source": [
        "## Ejercicio 7\n",
        "\n",
        "1. Crea un diccionario que describa un libro, con los siguientes campos o claves: \"titulo\",\"autor\",\"idioma original\",\"año de publicación\".\n",
        "2. Crea un a lista, llamada librería.\n",
        "3. Añade cuatro libros a tu elección a la librería."
      ]
    },
    {
      "cell_type": "code",
      "source": [
        "libreria = []\n",
        "\n",
        "libro_1 = {\n",
        "    \"titulo\": \"Cien años de soledad\",\n",
        "    \"autor\": \"Gabriel García Márquez\",\n",
        "    \"idioma original\": \"Español\",\n",
        "    \"año de publicación\": 1967}\n",
        "\n",
        "libro_2 = {\n",
        "    \"titulo\": \"1984\",\n",
        "    \"autor\": \"George Orwell\",\n",
        "    \"idioma original\": \"Inglés\",\n",
        "    \"año de publicación\": 1949}\n",
        "\n",
        "libro_3 = {\n",
        "    \"titulo\": \"Don Quijote de la Mancha\",\n",
        "    \"autor\": \"Miguel de Cervantes\",\n",
        "    \"idioma original\": \"Español\",\n",
        "    \"año de publicación\": 1605}\n",
        "\n",
        "libro_4 = {\n",
        "    \"titulo\": \"El principito\",\n",
        "    \"autor\": \"Antoine de Saint-Exupery\",\n",
        "    \"idioma original\": \"Francés\",\n",
        "    \"año de publicación\": 1943}\n",
        "\n",
        "libreria.append(libro_1)\n",
        "libreria.append(libro_2)\n",
        "libreria.append(libro_3)\n",
        "libreria.append(libro_4)\n",
        "\n",
        "for libro in libreria:\n",
        "    print(libro)"
      ],
      "metadata": {
        "colab": {
          "base_uri": "https://localhost:8080/"
        },
        "id": "aT85SrLJ-MsT",
        "outputId": "8c8f0dbc-b63c-4d00-a0e1-f440342dcc77"
      },
      "execution_count": 27,
      "outputs": [
        {
          "output_type": "stream",
          "name": "stdout",
          "text": [
            "{'titulo': 'Cien años de soledad', 'autor': 'Gabriel García Márquez', 'idioma original': 'Español', 'año de publicación': 1967}\n",
            "{'titulo': '1984', 'autor': 'George Orwell', 'idioma original': 'Inglés', 'año de publicación': 1949}\n",
            "{'titulo': 'Don Quijote de la Mancha', 'autor': 'Miguel de Cervantes', 'idioma original': 'Español', 'año de publicación': 1605}\n",
            "{'titulo': 'El principito', 'autor': 'Antoine de Saint-Exupery', 'idioma original': 'Francés', 'año de publicación': 1943}\n"
          ]
        }
      ]
    },
    {
      "cell_type": "code",
      "source": [
        "libreria_infantil = []\n",
        "\n",
        "libro1 = {\n",
        "    \"titulo\": \"La vaca Lola\",\n",
        "    \"autor\": \"Pepa Flores\",\n",
        "    \"idioma original\": \"español\",\n",
        "    \"año de publicación\": 2020}\n",
        "\n",
        "libro2 = {\n",
        "    \"titulo\": \"Pepa Pig\",\n",
        "    \"autor\": \"Pedro Garcia\",\n",
        "    \"idioma original\": \"español\",\n",
        "    \"año de publicación\": 2018}\n",
        "\n",
        "libro3 = {\n",
        "    \"titulo\": \"La Sirenita\",\n",
        "    \"autor\": \"Maria Garcia\",\n",
        "    \"idioma original\": \"español\",\n",
        "    \"año de publicación\": 1998}\n",
        "\n",
        "libro4 = {\n",
        "    \"titulo\": \"Geronimo Stiton\",\n",
        "    \"autor\": \"Paco Perez\",\n",
        "    \"idioma original\": \"español\",\n",
        "    \"año de publicación\": 2005}\n",
        "\n",
        "\n",
        "libreria_infantil.append(libro1)\n",
        "libreria_infantil.append(libro2)\n",
        "libreria_infantil.append(libro3)\n",
        "libreria_infantil.append(libro4)\n",
        "\n",
        "for libro in libreria_infantil:\n",
        "    print(libro)"
      ],
      "metadata": {
        "colab": {
          "base_uri": "https://localhost:8080/"
        },
        "id": "26AeJnY-_GYC",
        "outputId": "bb5a5659-c009-47b2-898e-91c9b1eb44be"
      },
      "execution_count": 28,
      "outputs": [
        {
          "output_type": "stream",
          "name": "stdout",
          "text": [
            "{'titulo': 'La vaca Lola', 'autor': 'Pepa Flores', 'idioma original': 'español', 'año de publicación': 2020}\n",
            "{'titulo': 'Pepa Pig', 'autor': 'Pedro Garcia', 'idioma original': 'español', 'año de publicación': 2018}\n",
            "{'titulo': 'La Sirenita', 'autor': 'Maria Garcia', 'idioma original': 'español', 'año de publicación': 1998}\n",
            "{'titulo': 'Geronimo Stiton', 'autor': 'Paco Perez', 'idioma original': 'español', 'año de publicación': 2005}\n"
          ]
        }
      ]
    },
    {
      "cell_type": "markdown",
      "metadata": {
        "id": "glMoedjYRWxJ"
      },
      "source": [
        "## Ejercicio 8\n",
        "Modifica los valores del idioma de todos los libros del ejercicio anterior para que sea \"esperanto\"\n"
      ]
    },
    {
      "cell_type": "code",
      "execution_count": 33,
      "metadata": {
        "id": "veNdC-uwRWxJ",
        "colab": {
          "base_uri": "https://localhost:8080/"
        },
        "outputId": "71f9145f-2b5c-4e84-af32-0c86cf2dd05a"
      },
      "outputs": [
        {
          "output_type": "stream",
          "name": "stdout",
          "text": [
            "EN LA LIBRRIA PARA ADULTOS DISPONEMOS DE LOS SIGUIENTES EJEMPLARES CON CARACTERISTICAS\n",
            "     \n",
            "{'titulo': 'Cien años de soledad', 'autor': 'Gabriel García Márquez', 'idioma original': 'esperanto', 'año de publicación': 1967}\n",
            "{'titulo': '1984', 'autor': 'George Orwell', 'idioma original': 'esperanto', 'año de publicación': 1949}\n",
            "{'titulo': 'Don Quijote de la Mancha', 'autor': 'Miguel de Cervantes', 'idioma original': 'esperanto', 'año de publicación': 1605}\n",
            "{'titulo': 'El principito', 'autor': 'Antoine de Saint-Exupery', 'idioma original': 'esperanto', 'año de publicación': 1943}\n",
            "     \n",
            "+++++++++++++\n",
            "     \n",
            "EN LA LIBRERIA PINFANTIL DISPONEMOS DE LOS SIGUIENTES EJEMPLARES CON CARACTERISTICAS\n",
            "     \n",
            "{'titulo': 'La vaca Lola', 'autor': 'Pepa Flores', 'idioma original': 'esperanto', 'año de publicación': 2020}\n",
            "{'titulo': 'Pepa Pig', 'autor': 'Pedro Garcia', 'idioma original': 'esperanto', 'año de publicación': 2018}\n",
            "{'titulo': 'La Sirenita', 'autor': 'Maria Garcia', 'idioma original': 'esperanto', 'año de publicación': 1998}\n",
            "{'titulo': 'Geronimo Stiton', 'autor': 'Paco Perez', 'idioma original': 'esperanto', 'año de publicación': 2005}\n"
          ]
        }
      ],
      "source": [
        "for libro in libreria:\n",
        "    libro[\"idioma original\"] = \"esperanto\"\n",
        "\n",
        "for libro in libreria_infantil:\n",
        "    libro[\"idioma original\"] = \"esperanto\"\n",
        "\n",
        "\n",
        "print(\"EN LA LIBRRIA PARA ADULTOS DISPONEMOS DE LOS SIGUIENTES EJEMPLARES CON CARACTERISTICAS\")\n",
        "print (\"     \")\n",
        "for libro in libreria:\n",
        "    print(libro)\n",
        "\n",
        "print (\"     \")\n",
        "print (\"+++++++++++++\")\n",
        "print (\"     \")\n",
        "print(\"EN LA LIBRERIA PINFANTIL DISPONEMOS DE LOS SIGUIENTES EJEMPLARES CON CARACTERISTICAS\")\n",
        "print (\"     \")\n",
        "for libro in libreria_infantil:\n",
        "    print(libro)"
      ]
    },
    {
      "cell_type": "markdown",
      "metadata": {
        "id": "DRCJG04KRWxJ"
      },
      "source": [
        "## Ejercicio 9\n",
        "1. Escribe un programa que dada una variable titulo busque los libros que hay en la librería con ese título. Si no se encuentra debe devolver el mensaje `Ese no lo tengo, ¿mola?`\n",
        "2. Pruena que el programa con uno de tus libros y con otro que no contenga tu librería."
      ]
    },
    {
      "cell_type": "code",
      "execution_count": 42,
      "metadata": {
        "id": "eWHdJi9BRWxJ",
        "colab": {
          "base_uri": "https://localhost:8080/"
        },
        "outputId": "7ed59513-17d4-4da0-c5bd-5d3225d4a880"
      },
      "outputs": [
        {
          "output_type": "stream",
          "name": "stdout",
          "text": [
            "Introduce el titulo del libro que quieres buscar:\n",
            "La Vaca Lola\n",
            "Ese no lo tengo, ¿mola?\n",
            "si\n",
            "Gracias por tu opinión, pronto lo compraremos\n"
          ]
        }
      ],
      "source": [
        "print(\"Introduce el titulo del libro que quieres buscar:\")\n",
        "titulo = input()\n",
        "for libro in libreria:\n",
        "    if libro[\"titulo\"] == titulo:\n",
        "        print(libro)\n",
        "        print(\"QUE BIEN. Si disponemos del libro: \", titulo)\n",
        "        break\n",
        "    else:\n",
        "        print(\"Ese no lo tengo, ¿mola?\")\n",
        "        opinion_usuario = input()\n",
        "        print(\"Gracias por tu opinión, pronto lo compraremos\")\n",
        "        break\n",
        "\n",
        "\n",
        "#???????"
      ]
    },
    {
      "cell_type": "markdown",
      "metadata": {
        "id": "17YOpYuFRWxJ"
      },
      "source": [
        "## Ejercicio 10\n",
        "Convierte el programa del ejercicio 2 en una función al que se le pase el valor a buscar como un argumento posicional"
      ]
    },
    {
      "cell_type": "code",
      "execution_count": null,
      "metadata": {
        "id": "xbj0LgvnRWxJ"
      },
      "outputs": [],
      "source": [
        "#???????\n"
      ]
    },
    {
      "cell_type": "markdown",
      "metadata": {
        "id": "xZ-sWJxPRWxJ"
      },
      "source": [
        "## Ejercicio 11\n",
        "Convierte el programa del ejercicio 9 en una función al que se le pasen como argumentos la librería, posicional, y el título, argumento keyword con valor \"ninguno\", por defecto."
      ]
    },
    {
      "cell_type": "code",
      "execution_count": null,
      "metadata": {
        "id": "4-JrsMdNRWxK"
      },
      "outputs": [],
      "source": [
        "#??????"
      ]
    },
    {
      "cell_type": "markdown",
      "metadata": {
        "id": "FtJir95QRWxK"
      },
      "source": [
        "## Ejercicio 12\n",
        "Solicitar al usuario que ingrese su dirección email. Imprimir un mensaje indicando si la dirección es válida o no, valiéndose de una función para decidirlo. Una dirección se considerará válida si contiene el símbolo \"@\"."
      ]
    },
    {
      "cell_type": "code",
      "execution_count": 54,
      "metadata": {
        "id": "sk852IZ8RWxK",
        "colab": {
          "base_uri": "https://localhost:8080/"
        },
        "outputId": "0ee6c23f-d943-4f3a-8616-51affcabfbe9"
      },
      "outputs": [
        {
          "output_type": "stream",
          "name": "stdout",
          "text": [
            "Introduce tu dirección de email:\n",
            "hola@gmail.com\n",
            "La dirección es válida\n"
          ]
        }
      ],
      "source": [
        "print(\"Introduce tu dirección de email:\")\n",
        "email = input()\n",
        "if \"@\" in email:\n",
        "    print(\"La dirección es válida\")\n",
        "else:\n",
        "    print(\"creo que ha habido un error\")\n"
      ]
    },
    {
      "cell_type": "markdown",
      "metadata": {
        "id": "Kw1MWBwBRWxK"
      },
      "source": [
        "## Ejercicio 13\n",
        "Escribe una función que compruebe si un DNI es válido, devolviendo `True` en caso afirmativo.  \n",
        "En primer lugar, el DNI debe tener entre 7 y 8 dígitos numéricos.  \n",
        "Para saber si la letra del DNI es correcta puedes utilizar el siguiente fragmento de código:\n",
        ">```Python\n",
        ">DNI= 55555555\n",
        ">palabra='TRWAGMYFPDXBNJZSQVHLCKE'\n",
        ">print('La letra del DNI es: ', palabra[DNI%23])\n",
        ">````\n"
      ]
    },
    {
      "cell_type": "code",
      "execution_count": 51,
      "metadata": {
        "id": "F5Z9rSHqRWxK",
        "colab": {
          "base_uri": "https://localhost:8080/"
        },
        "outputId": "f1b86dd4-bbc8-4f6a-c4e1-7f7762ec4bf4"
      },
      "outputs": [
        {
          "output_type": "stream",
          "name": "stdout",
          "text": [
            "La letra del DNI es:  K\n",
            "ERROR, DNI INCORRECTO\n",
            "False\n"
          ]
        }
      ],
      "source": [
        "DNI= 55555555\n",
        "palabra='TRWAGMYFPDXBNJZSQVHLCKE'\n",
        "print('La letra del DNI es: ', palabra[DNI%23])\n",
        "\n",
        "if len(str(DNI)) <=7 and len(len(str(DNI))) >=8:\n",
        "    print(\"OK,DNI CORRECTO\")\n",
        "    print(\"True\")\n",
        "\n",
        "else:\n",
        "    print(\"ERROR, DNI INCORRECTO\")\n",
        "    print(\"False\")"
      ]
    },
    {
      "cell_type": "code",
      "source": [],
      "metadata": {
        "id": "6wdX5gLFHdFZ"
      },
      "execution_count": 51,
      "outputs": []
    }
  ],
  "metadata": {
    "language_info": {
      "name": "python"
    },
    "orig_nbformat": 4,
    "colab": {
      "provenance": []
    },
    "kernelspec": {
      "name": "python3",
      "display_name": "Python 3"
    }
  },
  "nbformat": 4,
  "nbformat_minor": 0
}