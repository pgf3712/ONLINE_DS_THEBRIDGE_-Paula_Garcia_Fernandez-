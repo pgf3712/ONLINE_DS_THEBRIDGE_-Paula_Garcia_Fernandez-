{
  "cells": [
    {
      "cell_type": "markdown",
      "id": "c49ba49d",
      "metadata": {
        "id": "c49ba49d"
      },
      "source": [
        "<img src=\"./img/TheBridge_logo_RGB_color.jpg\" width = 500>"
      ]
    },
    {
      "cell_type": "markdown",
      "id": "22ff8a1a",
      "metadata": {
        "id": "22ff8a1a"
      },
      "source": [
        "# EJERCICIOS MARKDOWN (II)"
      ]
    },
    {
      "cell_type": "markdown",
      "id": "d626df26",
      "metadata": {
        "id": "d626df26"
      },
      "source": [
        "Aquí tienes cinco sencillos ejercicios para practicar lo aprendido en la segundasesión de Markdown. Como en el anterior, utiliza las celdas que hay debajo dec cada enunciado y recuerda convertirlas a Markdown primero ;-)\n",
        "\n",
        "Si algunos ejercicios no los entiendes de primeras, dales una vuelta, busca pistas, busca en Internet... pero todavía no le preguntes a ChatGPT... Recuerda con dudas teóricas corre a preguntar, con los ejercicios exprimete antes de preguntar."
      ]
    },
    {
      "cell_type": "markdown",
      "id": "b2efd92f",
      "metadata": {
        "id": "b2efd92f"
      },
      "source": [
        "### Ejercicio 6: Listas\n",
        "Crea una lista no ordenada con los siguientes elementos:\n",
        "\n",
        "1. Manzanas\n",
        "2. Plátanos\n",
        "3. Uvas"
      ]
    },
    {
      "cell_type": "markdown",
      "source": [
        "* Manzanas\n",
        "+ Plátanos\n",
        "* Uvas\n"
      ],
      "metadata": {
        "id": "rLUMYGSQAnmm"
      },
      "id": "rLUMYGSQAnmm"
    },
    {
      "cell_type": "markdown",
      "id": "c8c2ff80",
      "metadata": {
        "id": "c8c2ff80"
      },
      "source": [
        "Crea ahora una lista ordenada de 1 a 3 y que además lo esté alfabéticamente con estos elementos:\n",
        "\n",
        "    * Arbol binario\n",
        "    * Random Forest\n",
        "    * Regresión Logística"
      ]
    },
    {
      "cell_type": "markdown",
      "source": [
        "1. Arbol binario\n",
        "2. Random Forest\n",
        "3. Regresión Logística"
      ],
      "metadata": {
        "id": "brGSY5HuCTmX"
      },
      "id": "brGSY5HuCTmX"
    },
    {
      "cell_type": "markdown",
      "id": "2c65c04a",
      "metadata": {
        "id": "2c65c04a"
      },
      "source": [
        "### Ejercicio 7: Listas Anidadas\n",
        "Bajo el título \"Frutas y Verduras\", crea una lista ordenada de frutas, y dentro de esta, anida una lista no ordenada de tres frutas. Luego, crea otra lista ordenada de verduras y anida dentro de ella una lista no ordenada de tres verduras.\n",
        "\n",
        "Las listas anidadas no las hemos visto pero seguro que con esto te haces una idea, como con los subrayados en los ejercicios de la primera parte:\n",
        "1. El elemento con orden\n",
        "* Aquí sin orden\n",
        "2. El siguiente\n",
        "* Pico\n",
        "* Pala\n"
      ]
    },
    {
      "cell_type": "markdown",
      "source": [
        "1. Frutas\n",
        "* Manzana\n",
        "+ Pera\n",
        "- Sandia\n",
        "\n",
        "2. Verduras\n",
        "* Calabacin\n",
        "* Lechuga\n",
        "* Puerro\n",
        "   + puerro tipo 1\n",
        "   + puerro tipo 2\n",
        "   + puerro tipo 3"
      ],
      "metadata": {
        "id": "eBtUUl1WFIwf"
      },
      "id": "eBtUUl1WFIwf"
    },
    {
      "cell_type": "markdown",
      "id": "e224fbf7",
      "metadata": {
        "id": "e224fbf7"
      },
      "source": [
        "### Ejercicio 8: Enlaces e Imágenes\n",
        "Inserta:\n",
        "\n",
        "1. Un enlace que lleve a \"www.thebridge.com\" con el texto \"Por aquí se cruzan puentes\".\n",
        "2. Una imagen de cualquier URL con el texto alternativo \"Logo\". Recuerda que puedes hacerlo referenciando la imagen a través de su ruta en tu ordenador, o bien incrustandola en el notebook\n"
      ]
    },
    {
      "cell_type": "code",
      "execution_count": 3,
      "id": "2bcc0287",
      "metadata": {
        "id": "2bcc0287",
        "outputId": "a8f96142-0671-4e67-d8c2-dd8832439f08",
        "colab": {
          "base_uri": "https://localhost:8080/",
          "height": 106
        }
      },
      "outputs": [
        {
          "output_type": "error",
          "ename": "SyntaxError",
          "evalue": "invalid character '´' (U+00B4) (<ipython-input-3-191391027636>, line 1)",
          "traceback": [
            "\u001b[0;36m  File \u001b[0;32m\"<ipython-input-3-191391027636>\"\u001b[0;36m, line \u001b[0;32m1\u001b[0m\n\u001b[0;31m    ´[Por aquí se cruzan puentes](https://thebridge.tech/)´\u001b[0m\n\u001b[0m    ^\u001b[0m\n\u001b[0;31mSyntaxError\u001b[0m\u001b[0;31m:\u001b[0m invalid character '´' (U+00B4)\n"
          ]
        }
      ],
      "source": [
        "[Por aquí se cruzan puentes](https://thebridge.tech/)"
      ]
    },
    {
      "cell_type": "markdown",
      "source": [
        "![error](./img/error.png)"
      ],
      "metadata": {
        "id": "-OImMcabGmXp"
      },
      "id": "-OImMcabGmXp"
    },
    {
      "cell_type": "markdown",
      "id": "94e48fe3",
      "metadata": {
        "id": "94e48fe3"
      },
      "source": [
        "### Ejercicio 9: Líneas Horizontales y Bloques de Código\n",
        "Inserta:\n",
        "\n",
        "1. Un bloque de código en Python que imprima \"Hola Mundo\" (pista: print(\"Hola Mundo\")) entre dos líneas horizontales, cada una creada con un método diferente."
      ]
    },
    {
      "cell_type": "code",
      "execution_count": null,
      "id": "9d31a21a",
      "metadata": {
        "id": "9d31a21a"
      },
      "outputs": [],
      "source": [
        "\n",
        "variable = \"Hola Mundo\""
      ]
    },
    {
      "cell_type": "markdown",
      "source": [
        "***\n",
        "---\n",
        "```Python\n",
        "variable = \"Hola Mundo\"\n",
        "```\n",
        "---\n",
        "***\n",
        "\n"
      ],
      "metadata": {
        "id": "5dTK77nyKFuC"
      },
      "id": "5dTK77nyKFuC"
    }
  ],
  "metadata": {
    "kernelspec": {
      "display_name": "Python 3 (ipykernel)",
      "language": "python",
      "name": "python3"
    },
    "language_info": {
      "codemirror_mode": {
        "name": "ipython",
        "version": 3
      },
      "file_extension": ".py",
      "mimetype": "text/x-python",
      "name": "python",
      "nbconvert_exporter": "python",
      "pygments_lexer": "ipython3",
      "version": "3.11.5"
    },
    "colab": {
      "provenance": []
    }
  },
  "nbformat": 4,
  "nbformat_minor": 5
}